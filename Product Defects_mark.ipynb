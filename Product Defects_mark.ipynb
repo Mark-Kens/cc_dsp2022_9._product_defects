{
 "cells": [
  {
   "cell_type": "markdown",
   "id": "4b2cd154",
   "metadata": {},
   "source": [
    "# Product Defects"
   ]
  },
  {
   "cell_type": "markdown",
   "id": "9fb46377",
   "metadata": {},
   "source": [
    "You are in charge of monitoring the number of products from a specific factory. You've been told that the number of defects on a given day follows the Poisson distribution with the rate parameter (lambda) equal to 7. You're new here, so you want to get a feel for what it means to follow the Poisson(7) distribution. You remember that the Poisson distribution is special because the rate parameter represents the expected value of the distribution, so in this case, the expected value of the Poisson(7) distribution is 7 defects per day.\n",
    "\n",
    "You will investigate certain attributes of the Poisson(7) distribution to get an intuition for how many defective objects you should expect to see in a given amount of time. You will also practice and apply what you know about the Poisson distribution on a practice data set that you will simulate yourself."
   ]
  },
  {
   "cell_type": "markdown",
   "id": "24b7687a",
   "metadata": {},
   "source": [
    "## Distribution in Theory"
   ]
  },
  {
   "cell_type": "markdown",
   "id": "6507ea83",
   "metadata": {},
   "source": [
    "1. Create a variable called `lam` that represents the rate parameter of our distribution."
   ]
  },
  {
   "cell_type": "code",
   "execution_count": 2,
   "id": "5004fed3",
   "metadata": {},
   "outputs": [],
   "source": [
    "import scipy.stats as stats\n",
    "import numpy as np\n",
    "\n",
    "## Task 1:\n",
    "lam = 7"
   ]
  },
  {
   "cell_type": "markdown",
   "id": "74c409d6",
   "metadata": {},
   "source": [
    "2. You know that the rate parameter of a Poisson distribution is equal to the expected value. So in our factory, the rate parameter would equal the expected number of defects on a given day. You are curious about how often we might observe the exact expected number of defects.\n",
    "\n",
    "   Calculate and print the probability of observing exactly `lam` defects on a given day."
   ]
  },
  {
   "cell_type": "code",
   "execution_count": 3,
   "id": "9460b5b8",
   "metadata": {},
   "outputs": [
    {
     "name": "stdout",
     "output_type": "stream",
     "text": [
      "0.14900277967433773\n"
     ]
    }
   ],
   "source": [
    "## Task 2:\n",
    "# ...observing exactly lam defects... means EXACT value of interest in this case is the same as lambda = 7\n",
    "# stats.poisson.pmf(<EXACT value of interest>, <expected value (lambda)>)\n",
    "print(stats.poisson.pmf(lam, lam))\n",
    "# The result of 0.149 can be confirmed with the poisson-slider at\n",
    "# (https://static-assets.codecademy.com/skillpaths/master-stats-ii/probability-distributions/poisson-slider/index.html)"
   ]
  },
  {
   "cell_type": "markdown",
   "id": "2f2e2d1f",
   "metadata": {},
   "source": [
    "3. Our boss said that having 4 or fewer defects on a given day is an exceptionally good day. You are curious about how often that might happen.\n",
    "\n",
    "   Calculate and print the probability of having one of those days."
   ]
  },
  {
   "cell_type": "code",
   "execution_count": 4,
   "id": "f4ebb772",
   "metadata": {},
   "outputs": [
    {
     "name": "stdout",
     "output_type": "stream",
     "text": [
      "0.17299160788207146\n"
     ]
    }
   ],
   "source": [
    "## Task 3:\n",
    "# ...4 or fewer defects... means a range of 0, 1, 2, 3, 4\n",
    "# stats.poisson.cdf(<RANGE of interest>, <expected value (lambda)>)\n",
    "print(stats.poisson.cdf(4, lam))"
   ]
  },
  {
   "cell_type": "markdown",
   "id": "53d28c8f",
   "metadata": {},
   "source": [
    "4. On the other hand, our boss said that having more than 9 defects on a given day is considered a bad day.\n",
    "\n",
    "   Calculate and print the probability of having one of these bad days."
   ]
  },
  {
   "cell_type": "code",
   "execution_count": 5,
   "id": "a2e52583",
   "metadata": {},
   "outputs": [
    {
     "name": "stdout",
     "output_type": "stream",
     "text": [
      "0.16950406276132668\n"
     ]
    }
   ],
   "source": [
    "## Task 4:\n",
    "# ...more thatn 9 defects... means from 10 to maximum\n",
    "# Range 1: 0 to maximum --> Probability that a number will be in this range is 1.\n",
    "# Range 2: 0 to 9\n",
    "# Range of interest = Probability(Range 1) - Probability(Range 2)\n",
    "print(1 - stats.poisson.cdf(9, lam))"
   ]
  },
  {
   "cell_type": "markdown",
   "id": "51b70b96",
   "metadata": {},
   "source": [
    "## Distribution in Practice"
   ]
  },
  {
   "cell_type": "markdown",
   "id": "64c0a33e",
   "metadata": {},
   "source": [
    "5. You've familiarized yourself a little bit about how the Poisson distribution works in theory by calculating different probabilities. But let's look at what this might look like in practice.\n",
    "\n",
    "   Create a variable called `year_defects` that has 365 random values from the Poisson distribution."
   ]
  },
  {
   "cell_type": "code",
   "execution_count": 6,
   "id": "ca2113e6",
   "metadata": {},
   "outputs": [],
   "source": [
    "## Task 5:\n",
    "# generate random variable\n",
    "# stats.poisson.rvs(lambda, size = num_values)\n",
    "year_defects = stats.poisson.rvs(lam, size=365)\n",
    "\n",
    "# Since we are using rnadomly generated values, following results/numbers may change if notebook is executed another time."
   ]
  },
  {
   "cell_type": "markdown",
   "id": "d7f3dce8",
   "metadata": {},
   "source": [
    "6. Let's take a look at our new dataset. Print the first 20 values in this dataset."
   ]
  },
  {
   "cell_type": "code",
   "execution_count": 8,
   "id": "b1d5f0c1",
   "metadata": {},
   "outputs": [
    {
     "name": "stdout",
     "output_type": "stream",
     "text": [
      "[ 9  7  8  9  8  6 10  4  7  5 10 11  9  3  3  3 11 11  6  3]\n"
     ]
    }
   ],
   "source": [
    "## Task 6:\n",
    "#print(year_defects.head(20)) # This did not work since this is not a dataframe\n",
    "# year_defects is an array\n",
    "print(year_defects[0:20])"
   ]
  },
  {
   "cell_type": "markdown",
   "id": "eedc358b",
   "metadata": {},
   "source": [
    "7. If we expect 7 defects on a given day, what is the total number of defects we would expect over 365 days?\n",
    "\n",
    "   Calculate and print this value to the output terminal."
   ]
  },
  {
   "cell_type": "code",
   "execution_count": 9,
   "id": "75d2f0e0",
   "metadata": {},
   "outputs": [
    {
     "name": "stdout",
     "output_type": "stream",
     "text": [
      "2555\n"
     ]
    }
   ],
   "source": [
    "## Task 7:\n",
    "# Expected value or average value is lambda\n",
    "print(lam * 365)"
   ]
  },
  {
   "cell_type": "markdown",
   "id": "ad96cdf6",
   "metadata": {},
   "source": [
    "8. Calculate and print the total sum of the dataset `year_defects`. How does this compare to the total number of defects we expected over 365 days?"
   ]
  },
  {
   "cell_type": "code",
   "execution_count": 12,
   "id": "da304786",
   "metadata": {},
   "outputs": [
    {
     "name": "stdout",
     "output_type": "stream",
     "text": [
      "2531\n",
      "2531\n"
     ]
    }
   ],
   "source": [
    "## Task 8:\n",
    "# Comparing theoretical value (lam * 365) to the simulation (sum of year_defects)\n",
    "print(year_defects.sum())\n",
    "print(sum(year_defects))\n",
    "# Both methods for sum work."
   ]
  },
  {
   "cell_type": "markdown",
   "id": "aefa9e09",
   "metadata": {},
   "source": [
    "9. Calculate and print the average number of defects per day from our simulated dataset.\n",
    "\n",
    "   How does this compare to the expected average number of defects each day that we know from the given rate parameter of the Poisson distribution?"
   ]
  },
  {
   "cell_type": "code",
   "execution_count": 13,
   "id": "febc26d4",
   "metadata": {},
   "outputs": [
    {
     "name": "stdout",
     "output_type": "stream",
     "text": [
      "6.934246575342466\n",
      "6.934246575342466\n"
     ]
    }
   ],
   "source": [
    "## Task 9:\n",
    "# Comparing theoretical value (lam) to the simulation (average of year_defects)\n",
    "print(year_defects.mean())\n",
    "print(np.mean(year_defects))\n",
    "# Both methods for mean work."
   ]
  },
  {
   "cell_type": "markdown",
   "id": "31308a48",
   "metadata": {},
   "source": [
    "10. You're worried about what the highest amount of defects in a single day might be because that would be a hectic day.\n",
    "\n",
    "    Print the maximum value of `year_defects`."
   ]
  },
  {
   "cell_type": "code",
   "execution_count": 15,
   "id": "18feb435",
   "metadata": {},
   "outputs": [
    {
     "name": "stdout",
     "output_type": "stream",
     "text": [
      "15\n",
      "15\n"
     ]
    }
   ],
   "source": [
    "## Task 10:\n",
    "print(year_defects.max())\n",
    "print(max(year_defects))"
   ]
  },
  {
   "cell_type": "markdown",
   "id": "64b6a84a",
   "metadata": {},
   "source": [
    "11. Wow, it would probably be super busy if there were that many defects on a single day. Hopefully, it is a rare event!\n",
    "\n",
    "    Calculate and print the probability of observing that maximum value or more from the Poisson(7) distribution."
   ]
  },
  {
   "cell_type": "code",
   "execution_count": 17,
   "id": "a63b1329",
   "metadata": {},
   "outputs": [
    {
     "name": "stdout",
     "output_type": "stream",
     "text": [
      "0.0024065803473980463\n"
     ]
    }
   ],
   "source": [
    "## Task 11:\n",
    "# This is not asked: Observing EXACTLY 15 defects (year_defects.max()): print(stats.poisson.pmf(year_defects.max(), lam))\n",
    "# Observing 15 OR MORE\n",
    "print(1 - stats.poisson.cdf(year_defects.max(), lam))\n"
   ]
  },
  {
   "cell_type": "markdown",
   "id": "b45f0bab",
   "metadata": {},
   "source": [
    "## Extra"
   ]
  },
  {
   "cell_type": "markdown",
   "id": "5060f0ec",
   "metadata": {},
   "source": [
    "12. Congratulations! At this point, you have now explored the Poisson distribution and even worked with some simulated data. We have a couple of extra tasks if you would like an extra challenge. Feel free to try them out or move onto the next topic!\n",
    "\n",
    "    Let's say we want to know how many defects in a given day would put us in the 90th percentile of the Poisson(7) distribution. One way we could calculate this is by using the following method:\n",
    "    \n",
    "    ```py\n",
    "    stats.poisson.ppf(percentile, lambda)\n",
    "    ```\n",
    "    \n",
    "    `percentile` is equal to the desired percentile (a decimal between 0 and 1), and `lambda` is the lambda parameter of the Poisson distribution. This function is essentially the inverse of the CDF.\n",
    "    \n",
    "    Use this method to calculate and print the number of defects that would put us in the 90th percentile for a given day. In other words, on 90% of days, we will observe fewer defects than this number."
   ]
  },
  {
   "cell_type": "code",
   "execution_count": 18,
   "id": "e6156c3e",
   "metadata": {},
   "outputs": [
    {
     "name": "stdout",
     "output_type": "stream",
     "text": [
      "10.0\n"
     ]
    }
   ],
   "source": [
    "## Task 12:\n",
    "# Average number of defects is 7\n",
    "# Maximum number of defects is 15\n",
    "# Number of defects on 90% of the days = ?\n",
    "print(stats.poisson.ppf(0.9, lam))\n",
    "# ... In other words, on 90% of days, we will observe fewer defects than this number.\n",
    "# The result is not a percentage. It is the number of defects."
   ]
  },
  {
   "cell_type": "markdown",
   "id": "0d86d9d0",
   "metadata": {},
   "source": [
    "13. Now let's see what proportion of our simulated dataset `year_defects` is greater than or equal to the number we calculated in the previous step.\n",
    "\n",
    "    By definition of a percentile, we would expect 1 - .90, or about 10% of days to be in this range.\n",
    "    \n",
    "    To calculate this:\n",
    "    \n",
    "     1) Count the number of values in the dataset that are greater than or equal to the 90th percentile value.\n",
    "     \n",
    "     2) Divide this number by the length of the dataset."
   ]
  },
  {
   "cell_type": "code",
   "execution_count": 39,
   "id": "c80c6e6a",
   "metadata": {},
   "outputs": [
    {
     "name": "stdout",
     "output_type": "stream",
     "text": [
      "0.16164383561643836\n",
      "0.09041095890410959\n"
     ]
    }
   ],
   "source": [
    "## Task 13:\n",
    "# The statement ( ... In other words, on 90% of days, we will observe fewer defects than this number.) suggests that \n",
    "# 90% of the time defects are <10, and 10% of the time defects are >=10. \n",
    "# So, the expected result here is about 10%\n",
    "\n",
    "\n",
    "# year_defects_count = year_defects.count()\n",
    "# This didn't work:\n",
    "# AttributeError: 'numpy.ndarray' object has no attribute 'count'\n",
    "\n",
    "# year_defects_count = np.count(year_defects)\n",
    "# This didn't work:\n",
    "# AttributeError: module 'numpy' has no attribute 'count'\n",
    "\n",
    "# np.count_nonzero(year_defects)\n",
    "# This returns 364 because 0 is not counted.\n",
    "\n",
    "# np.count_nonzero(year_defects >= 10) # This works.\n",
    "# This returns 59. Since we are using rnadomly generated values, these number may change if notebook is executed another time.\n",
    "# len(year_defects) is 365\n",
    "print((np.count_nonzero(year_defects >= 10)) / len(year_defects))\n",
    "#print(59/365)\n",
    "# Result is 0.16163; this is not expected, it should be around 10%\n",
    "\n",
    "# SEE STATEMENT: \n",
    "# # The statement ( ... In other words, on 90% of days, we will observe fewer defects than this number.) suggests that \n",
    "# 90% of the time defects are <10, and 10% of the time defects are >=10. \n",
    "# My conclusions from the statement make sense, however, the STATEMENT SEEMS WRONG.\n",
    "\n",
    "# Try >10 instead of >=10:\n",
    "print((np.count_nonzero(year_defects > 10)) / len(year_defects))\n",
    "# The result is 0.0904, as expected."
   ]
  },
  {
   "cell_type": "code",
   "execution_count": null,
   "id": "9961924d",
   "metadata": {},
   "outputs": [],
   "source": []
  }
 ],
 "metadata": {
  "kernelspec": {
   "display_name": "Python 3.8.8 ('base')",
   "language": "python",
   "name": "python3"
  },
  "language_info": {
   "codemirror_mode": {
    "name": "ipython",
    "version": 3
   },
   "file_extension": ".py",
   "mimetype": "text/x-python",
   "name": "python",
   "nbconvert_exporter": "python",
   "pygments_lexer": "ipython3",
   "version": "3.8.8"
  },
  "vscode": {
   "interpreter": {
    "hash": "4d6979881df6e222f622e5c452613767b84695145e0c10696727ea7f3c022c7e"
   }
  }
 },
 "nbformat": 4,
 "nbformat_minor": 5
}
